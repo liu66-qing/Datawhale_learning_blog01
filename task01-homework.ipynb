
{
 "cells": [
  {
   "cell_type": "code",
   "execution_count": null,
   "id": "757b3388-a848-4829-a485-6d4a11a74e2a",
   "metadata": {},
   "outputs": [],
   "source": [
    "from transformers import AutoModelForCausalLM, AutoTokenizer\n",
    "import torch\n",
    "\n",
    "# 设置模型路径\n",
    "model_name = \"/root/autodl-tmp/model/Qwen/Qwen3-4B\"  # 本地路径\n",
    "# 或者使用 Hugging Face 仓库：model_name = \"Qwen/Qwen3-4B\"\n",
    "\n",
    "# 加载分词器和模型\n",
    "tokenizer = AutoTokenizer.from_pretrained(model_name, trust_remote_code=True)\n",
    "model = AutoModelForCausalLM.from_pretrained(\n",
    "    model_name,\n",
    "    torch_dtype=torch.float16,  # 使用 FP16 减少显存占用\n",
    "    device_map=\"cuda:0\",       # 指定 GPU 设备\n",
    "    trust_remote_code=True     # 允许加载自定义代码\n",
    ")\n",
    "\n",
    "# 准备输入\n",
    "prompt = \"简单介绍大模型\"\n",
    "messages = [\n",
    "    {\"role\": \"user\", \"content\": prompt}\n",
    "]\n",
    "text = tokenizer.apply_chat_template(\n",
    "    messages,\n",
    "    tokenize=False,\n",
    "    add_generation_prompt=True\n",
    ")\n",
    "\n",
    "# 将输入转换为张量\n",
    "model_inputs = tokenizer([text], return_tensors=\"pt\").to(\"cuda:0\")\n",
    "\n",
    "# 生成文本\n",
    "generated_ids = model.generate(\n",
    "    model_inputs.input_ids,\n",
    "    attention_mask=model_inputs.attention_mask,  # 提供注意力掩码\n",
    "    max_new_tokens=512,                         # 设置合理最大生成长度\n",
    "    do_sample=True,                            # 启用采样以增加生成多样性\n",
    "    temperature=0.7,                           # 控制生成随机性\n",
    "    top_p=0.9                                  # 控制生成多样性\n",
    ")\n",
    "\n",
    "# 解码生成的 token\n",
    "output_text = tokenizer.decode(generated_ids[0], skip_special_tokens=True)\n",
    "\n",
    "# 提取最终回答（移除输入部分）\n",
    "response = output_text[len(text):].strip()\n",
    "\n",
    "# 打印结果\n",
    "print(\"Generated Response:\", response)"
   ]
  },
  {
   "cell_type": "code",
   "execution_count": null,
   "id": "d9f4a561-490b-4cbf-9838-23803c871599",
   "metadata": {},
   "outputs": [],
   "source": []
  },
  {
   "cell_type": "code",
   "execution_count": null,
   "id": "aa5efa40-ec37-4f86-9157-aa2c571409c1",
   "metadata": {},
   "outputs": [],
   "source": []
  }
 ],
 "metadata": {
  "kernelspec": {
   "display_name": "Python 3 (ipykernel)",
   "language": "python",
   "name": "python3"
  },
  "language_info": {
   "codemirror_mode": {
    "name": "ipython",
    "version": 3
   },
   "file_extension": ".py",
   "mimetype": "text/x-python",
   "name": "python",
   "nbconvert_exporter": "python",
   "pygments_lexer": "ipython3",
   "version": "3.12.3"
  }
 },
 "nbformat": 4,
 "nbformat_minor": 5
}
